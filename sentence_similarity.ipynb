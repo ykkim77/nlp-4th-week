{
  "nbformat": 4,
  "nbformat_minor": 0,
  "metadata": {
    "colab": {
      "name": "sentence_similarity.ipynb",
      "provenance": [],
      "collapsed_sections": [],
      "authorship_tag": "ABX9TyPYW/xNM4cM/MHzTTn9naZq",
      "include_colab_link": true
    },
    "kernelspec": {
      "name": "python3",
      "display_name": "Python 3"
    },
    "language_info": {
      "name": "python"
    }
  },
  "cells": [
    {
      "cell_type": "markdown",
      "metadata": {
        "id": "view-in-github",
        "colab_type": "text"
      },
      "source": [
        "<a href=\"https://colab.research.google.com/github/ykkim77/nlp-4th-week/blob/main/sentence_similarity.ipynb\" target=\"_parent\"><img src=\"https://colab.research.google.com/assets/colab-badge.svg\" alt=\"Open In Colab\"/></a>"
      ]
    },
    {
      "cell_type": "code",
      "metadata": {
        "id": "dFLW5WQjzNpB"
      },
      "source": [
        "doc_list = ['if you take the blue pill, the story ends',\n",
        "            'if you take the red pill, you stay in Wonderland',\n",
        "            'if you take the red pill, I show you how deep the rabbit hole goes']"
      ],
      "execution_count": null,
      "outputs": []
    },
    {
      "cell_type": "code",
      "metadata": {
        "id": "cCnQkh5p3IAN"
      },
      "source": [
        "import numpy as np\n",
        "from numpy import dot\n",
        "from numpy.linalg import norm"
      ],
      "execution_count": null,
      "outputs": []
    },
    {
      "cell_type": "code",
      "metadata": {
        "id": "_EhsyZnS4FYt"
      },
      "source": [
        "def cos_similar(A,B):\n",
        "    return dot(A,B) / (norm(A)*norm(B))     # dot : A, B 의 내적곱    norm  : 벡터의 크기"
      ],
      "execution_count": null,
      "outputs": []
    },
    {
      "cell_type": "code",
      "metadata": {
        "colab": {
          "base_uri": "https://localhost:8080/"
        },
        "id": "-8PzoxDj9b6B",
        "outputId": "71a05be4-30d1-46ae-8596-ad9191faf914"
      },
      "source": [
        "from sklearn.feature_extraction.text import TfidfVectorizer\n",
        "\n",
        "tfidf = TfidfVectorizer()\n",
        "doc_tfidf = tfidf.fit_transform(doc_list)\n",
        "\n",
        "print(doc_tfidf.shape)\n",
        "print(type(doc_tfidf))"
      ],
      "execution_count": null,
      "outputs": [
        {
          "output_type": "stream",
          "text": [
            "(3, 18)\n",
            "<class 'scipy.sparse.csr.csr_matrix'>\n"
          ],
          "name": "stdout"
        }
      ]
    },
    {
      "cell_type": "code",
      "metadata": {
        "colab": {
          "base_uri": "https://localhost:8080/"
        },
        "id": "ruO4YwXY-d8s",
        "outputId": "b974d8df-654a-4773-f34d-42d4149e7b00"
      },
      "source": [
        "dense_tfidf = doc_tfidf.todense()\n",
        "print(dense_tfidf)"
      ],
      "execution_count": null,
      "outputs": [
        {
          "output_type": "stream",
          "text": [
            "[[0.4155636  0.         0.4155636  0.         0.         0.\n",
            "  0.24543856 0.         0.24543856 0.         0.         0.\n",
            "  0.         0.4155636  0.24543856 0.49087711 0.         0.24543856]\n",
            " [0.         0.         0.         0.         0.         0.\n",
            "  0.23402865 0.39624495 0.23402865 0.         0.3013545  0.\n",
            "  0.39624495 0.         0.23402865 0.23402865 0.39624495 0.4680573 ]\n",
            " [0.         0.30985601 0.         0.30985601 0.30985601 0.30985601\n",
            "  0.18300595 0.         0.18300595 0.30985601 0.23565348 0.30985601\n",
            "  0.         0.         0.18300595 0.3660119  0.         0.3660119 ]]\n"
          ],
          "name": "stdout"
        }
      ]
    },
    {
      "cell_type": "code",
      "metadata": {
        "id": "oZXuMUyy_B6w"
      },
      "source": [
        "vec1 = np.array(dense_tfidf[0]).reshape(-1,)    #  dense_tfidf 에서 첫번째 문장만을 뽑아 하나의 벡터로 만든다.\n",
        "vec2 = np.array(dense_tfidf[1]).reshape(-1,)    #  dense_tfidf 에서 두번째 문장만을 뽑아 하나의 벡터로 만든다.\n",
        "vec3 = np.array(dense_tfidf[2]).reshape(-1,)    #  dense_tfidf 에서 세번째 문장만을 뽑아 하나의 벡터로 만든다."
      ],
      "execution_count": null,
      "outputs": []
    },
    {
      "cell_type": "code",
      "metadata": {
        "colab": {
          "base_uri": "https://localhost:8080/"
        },
        "id": "aUzjQras_uII",
        "outputId": "a6b88232-1c88-419b-ee70-75533569490f"
      },
      "source": [
        "print(\"첫번째 문서와 두번째 문서간의 cos 유사도 : \",cos_similar(vec1,vec2))\n",
        "print(\"두번째 문서와 세번째 문서간의 cos 유사도 : \",cos_similar(vec2,vec3))\n",
        "print(\"첫번째 문서와 세번째 문서간의 cos 유사도 : \",cos_similar(vec1,vec3))"
      ],
      "execution_count": null,
      "outputs": [
        {
          "output_type": "stream",
          "text": [
            "첫번째 문서와 두번째 문서간의 cos 유사도 :  0.40207758214950134\n",
            "두번째 문서와 세번째 문서간의 cos 유사도 :  0.45647296026166395\n",
            "첫번째 문서와 세번째 문서간의 cos 유사도 :  0.4042504477594862\n"
          ],
          "name": "stdout"
        }
      ]
    }
  ]
}